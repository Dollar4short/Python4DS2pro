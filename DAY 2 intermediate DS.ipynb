{
 "cells": [
  {
   "cell_type": "markdown",
   "id": "ef8e85f0",
   "metadata": {},
   "source": [
    "## NUMPYS \n",
    "\n",
    "Numpy is a fundamental package for scientific computing and for manipulation of multimedia dimensional arrays and matrices. \n"
   ]
  },
  {
   "cell_type": "code",
   "execution_count": 1,
   "id": "a18261c1",
   "metadata": {},
   "outputs": [],
   "source": [
    "import numpy \n",
    "\n",
    "import numpy as np \n"
   ]
  },
  {
   "cell_type": "code",
   "execution_count": 3,
   "id": "9da36f39",
   "metadata": {},
   "outputs": [
    {
     "name": "stdout",
     "output_type": "stream",
     "text": [
      "[1 2 3 4 5]\n",
      "The shape of x is (5,)\n",
      "[ 9 10]\n",
      "The shape of y is (2,)\n"
     ]
    }
   ],
   "source": [
    "#creatinga1darray \n",
    "x=np.array([1, 2, 3, 4, 5])\n",
    "y= np.array([9, 10])\n",
    "\n",
    "print(x)\n",
    "print('The shape of x is', x.shape)\n",
    "\n",
    "print(y)\n",
    "print('The shape of y is', y.shape)\n"
   ]
  },
  {
   "cell_type": "code",
   "execution_count": 6,
   "id": "bb86f26d",
   "metadata": {},
   "outputs": [
    {
     "name": "stdout",
     "output_type": "stream",
     "text": [
      "[[1 2]\n",
      " [3 4]]\n",
      "The shape of z is (2, 2)\n"
     ]
    }
   ],
   "source": [
    "#2DArrays \n",
    "z= np.array([[1,2],[3,4]])\n",
    "print(z)\n",
    "print('The shape of z is', z.shape)\n"
   ]
  },
  {
   "cell_type": "code",
   "execution_count": 10,
   "id": "dedf05a7",
   "metadata": {},
   "outputs": [
    {
     "name": "stdout",
     "output_type": "stream",
     "text": [
      "[[[ 1  2  3]\n",
      "  [ 4  5  6]\n",
      "  [ 7  8  9]]\n",
      "\n",
      " [[10 11 12]\n",
      "  [13 14 15]\n",
      "  [16 17 18]]\n",
      "\n",
      " [[19 20 21]\n",
      "  [22 23 24]\n",
      "  [25 26 27]]] /n\n",
      "The shape of w is (3, 3, 3)\n"
     ]
    }
   ],
   "source": [
    "#multipledimensionarray\n",
    "w=np.array([[[1,2,3],[4,5,6],[7,8,9]],[[10,11,12],[13,14,15],[16,17,18]],[[19,20,21],[22,23,24],[25,26,27]]])\n",
    "print(w, '/n')\n",
    "print('The shape of w is', w.shape)\n"
   ]
  },
  {
   "cell_type": "markdown",
   "id": "7a199c00",
   "metadata": {},
   "source": [
    "## NUMPY FUNCTIONS \n",
    "arange \n",
    "reshape\n",
    "zeroes \n",
    "one\n",
    "full\n",
    "linspace \n",
    "random\n",
    "arange \n"
   ]
  },
  {
   "cell_type": "code",
   "execution_count": 12,
   "id": "22b39fe9",
   "metadata": {},
   "outputs": [
    {
     "name": "stdout",
     "output_type": "stream",
     "text": [
      "[0 1 2 3 4 5 6 7 8 9]\n"
     ]
    }
   ],
   "source": [
    "#Arange\n",
    "#creates a 1d array with 10 elements in it\n",
    "A10=np.arange(10)\n",
    "A10\n",
    "print(A10)\n"
   ]
  },
  {
   "cell_type": "code",
   "execution_count": 16,
   "id": "8e23eb07",
   "metadata": {},
   "outputs": [
    {
     "name": "stdout",
     "output_type": "stream",
     "text": [
      "[0 1 2 3 4 5 6 7 8 9] \n",
      " [[0]\n",
      " [1]\n",
      " [2]\n",
      " [3]\n",
      " [4]\n",
      " [5]\n",
      " [6]\n",
      " [7]\n",
      " [8]\n",
      " [9]]\n",
      "The shape of array X = (10, 1)\n"
     ]
    }
   ],
   "source": [
    "#Reshape\n",
    "\n",
    "B10=A10.reshape(-1,1)\n",
    "print (A10,'\\n', B10)\n",
    "print('The shape of array X =', B10.shape)\n"
   ]
  },
  {
   "cell_type": "code",
   "execution_count": 18,
   "id": "e04e1104",
   "metadata": {},
   "outputs": [
    {
     "name": "stdout",
     "output_type": "stream",
     "text": [
      "[[0 1 2 3 4]\n",
      " [5 6 7 8 9]]\n",
      "The shape of 1D array x= (2, 5)\n"
     ]
    }
   ],
   "source": [
    "A10 = B10.reshape(2,5)\n",
    "\n",
    "print(A10)\n",
    "print('The shape of 1D array x=', A10.shape)"
   ]
  },
  {
   "cell_type": "code",
   "execution_count": 21,
   "id": "51b2f258",
   "metadata": {},
   "outputs": [
    {
     "data": {
      "text/plain": [
       "array([[0., 0., 0.],\n",
       "       [0., 0., 0.]])"
      ]
     },
     "execution_count": 21,
     "metadata": {},
     "output_type": "execute_result"
    }
   ],
   "source": [
    "#zeroes is used to create ana array filled with zeroes\n",
    "np_zeros= np.zeros((2,3))\n",
    "np_zeros\n"
   ]
  },
  {
   "cell_type": "code",
   "execution_count": 22,
   "id": "7bad2e7f",
   "metadata": {},
   "outputs": [
    {
     "data": {
      "text/plain": [
       "array([[0, 0, 0],\n",
       "       [0, 0, 0]])"
      ]
     },
     "execution_count": 22,
     "metadata": {},
     "output_type": "execute_result"
    }
   ],
   "source": [
    "#zeroes is used to create ana array filled with zeroes\n",
    "np_zeros= np.zeros((2,3))\n",
    "np_zeros.astype(int)\n"
   ]
  },
  {
   "cell_type": "code",
   "execution_count": 23,
   "id": "6e112be9",
   "metadata": {},
   "outputs": [
    {
     "data": {
      "text/plain": [
       "array([[1., 1., 1.],\n",
       "       [1., 1., 1.]])"
      ]
     },
     "execution_count": 23,
     "metadata": {},
     "output_type": "execute_result"
    }
   ],
   "source": [
    "np_ones= np.ones((2,3))\n",
    "\n",
    "np_ones"
   ]
  },
  {
   "cell_type": "code",
   "execution_count": 24,
   "id": "3e0e4bbe",
   "metadata": {},
   "outputs": [
    {
     "data": {
      "text/plain": [
       "array([[4, 4, 4],\n",
       "       [4, 4, 4]])"
      ]
     },
     "execution_count": 24,
     "metadata": {},
     "output_type": "execute_result"
    }
   ],
   "source": [
    "np_full = np.full((2,3), 4)\n",
    "np_full"
   ]
  },
  {
   "cell_type": "code",
   "execution_count": 25,
   "id": "30fd171a",
   "metadata": {},
   "outputs": [
    {
     "data": {
      "text/plain": [
       "array([[1., 0., 0., 0., 0., 0.],\n",
       "       [0., 1., 0., 0., 0., 0.],\n",
       "       [0., 0., 1., 0., 0., 0.],\n",
       "       [0., 0., 0., 1., 0., 0.],\n",
       "       [0., 0., 0., 0., 1., 0.],\n",
       "       [0., 0., 0., 0., 0., 1.]])"
      ]
     },
     "execution_count": 25,
     "metadata": {},
     "output_type": "execute_result"
    }
   ],
   "source": [
    "np_eye = np.eye(6,6)\n",
    "\n",
    "np_eye"
   ]
  },
  {
   "cell_type": "code",
   "execution_count": 27,
   "id": "f76fa7a6",
   "metadata": {},
   "outputs": [
    {
     "data": {
      "text/plain": [
       "array([ 0.,  2.,  4.,  6.,  8., 10.])"
      ]
     },
     "execution_count": 27,
     "metadata": {},
     "output_type": "execute_result"
    }
   ],
   "source": [
    "#linspace returns evenly spaced nunbers over a specified amount\n",
    "np_linspace = np.linspace(0, 10, num=6)\n",
    "\n",
    "np_linspace"
   ]
  },
  {
   "cell_type": "code",
   "execution_count": 28,
   "id": "4ced76c6",
   "metadata": {},
   "outputs": [
    {
     "data": {
      "text/plain": [
       "array([ 0. ,  2.5,  5. ,  7.5, 10. ])"
      ]
     },
     "execution_count": 28,
     "metadata": {},
     "output_type": "execute_result"
    }
   ],
   "source": [
    "#linspace returns evenly spaced nunbers over a specified amount\n",
    "np_linspace = np.linspace(0, 10, num=5)\n",
    "\n",
    "np_linspace"
   ]
  },
  {
   "cell_type": "code",
   "execution_count": 36,
   "id": "aca0d421",
   "metadata": {},
   "outputs": [
    {
     "name": "stdout",
     "output_type": "stream",
     "text": [
      "[[0.94600108 0.26246822 0.10858844]\n",
      " [0.84149147 0.57396799 0.78668537]]\n",
      "[[0.89260265 0.54030513 0.74505021]\n",
      " [0.70066117 0.13517461 0.39343691]]\n"
     ]
    },
    {
     "data": {
      "text/plain": [
       "array([[2, 0, 6],\n",
       "       [7, 4, 4],\n",
       "       [1, 7, 3],\n",
       "       [5, 3, 4],\n",
       "       [8, 5, 0]])"
      ]
     },
     "execution_count": 36,
     "metadata": {},
     "output_type": "execute_result"
    }
   ],
   "source": [
    "#RAND: this creates an array filled with random values between 0 and 1\n",
    "\n",
    "np_rand= np.random.random_sample((2,3))\n",
    "\n",
    "np_rand1 = np.random.rand(2,3)\n",
    "\n",
    "X=np.random.randint(10, size=(5,3))\n",
    "np.save('array_data.npy',np_rand)\n",
    "print(np_rand)\n",
    "\n",
    "print(np_rand1)\n",
    "X\n"
   ]
  },
  {
   "cell_type": "markdown",
   "id": "3220d2ca",
   "metadata": {},
   "source": [
    "## Accessing Elements of Numpy Array\n",
    "\n",
    "To do this in a 2d array you must specify an index for both the row and the column"
   ]
  },
  {
   "cell_type": "code",
   "execution_count": 43,
   "id": "039b20b7",
   "metadata": {},
   "outputs": [
    {
     "name": "stdout",
     "output_type": "stream",
     "text": [
      "[[1 2]\n",
      " [3 4]]\n"
     ]
    },
    {
     "data": {
      "text/plain": [
       "4"
      ]
     },
     "execution_count": 43,
     "metadata": {},
     "output_type": "execute_result"
    }
   ],
   "source": [
    "#Row 1, column 0 gives a scalar\n",
    "print(z)\n",
    "z[1,1]"
   ]
  },
  {
   "cell_type": "code",
   "execution_count": 48,
   "id": "90753e75",
   "metadata": {},
   "outputs": [
    {
     "name": "stdout",
     "output_type": "stream",
     "text": [
      "[[1 2]\n",
      " [3 4]]\n"
     ]
    }
   ],
   "source": [
    "p=np.array([[1,2],[3,4]])\n",
    "print(p)"
   ]
  },
  {
   "cell_type": "code",
   "execution_count": 44,
   "id": "27d0d834",
   "metadata": {},
   "outputs": [
    {
     "data": {
      "text/plain": [
       "3"
      ]
     },
     "execution_count": 44,
     "metadata": {},
     "output_type": "execute_result"
    }
   ],
   "source": [
    "#ar\n",
    "\n",
    "p= z[1][0]\n",
    "p"
   ]
  },
  {
   "cell_type": "code",
   "execution_count": 45,
   "id": "0c394243",
   "metadata": {},
   "outputs": [
    {
     "data": {
      "text/plain": [
       "array([1])"
      ]
     },
     "execution_count": 45,
     "metadata": {},
     "output_type": "execute_result"
    }
   ],
   "source": [
    "p=(z[0:1, 0])\n",
    "p"
   ]
  },
  {
   "cell_type": "markdown",
   "id": "b836de33",
   "metadata": {},
   "source": [
    "## Numpy Attributes"
   ]
  },
  {
   "cell_type": "code",
   "execution_count": 51,
   "id": "41ba9f61",
   "metadata": {},
   "outputs": [
    {
     "name": "stdout",
     "output_type": "stream",
     "text": [
      "The Dtype of elements in array X=  int32\n",
      "The shape of ND array W=  int32\n"
     ]
    }
   ],
   "source": [
    "print('The Dtype of elements in array X= ', x.dtype)\n",
    "\n",
    "print('The shape of ND array W= ', w.dtype)"
   ]
  },
  {
   "cell_type": "code",
   "execution_count": 53,
   "id": "220783a1",
   "metadata": {},
   "outputs": [
    {
     "name": "stdout",
     "output_type": "stream",
     "text": [
      "The shape of 1D array X=  (5,)\n",
      "The shape of 2D array Z=  (2, 2)\n",
      "The shape of ND array W=  (3, 3, 3)\n",
      "The shape of arange A10=  (2, 5)\n"
     ]
    }
   ],
   "source": [
    "print('The shape of 1D array X= ', x.shape)\n",
    "print('The shape of 2D array Z= ', z.shape)\n",
    "print('The shape of ND array W= ', w.shape)\n",
    "print('The shape of arange A10= ', A10.shape)"
   ]
  },
  {
   "cell_type": "code",
   "execution_count": 54,
   "id": "1d28f82d",
   "metadata": {},
   "outputs": [
    {
     "name": "stdout",
     "output_type": "stream",
     "text": [
      "The shape of ND array W=  27\n",
      "The shape ofarange A10=  10\n"
     ]
    }
   ],
   "source": [
    "print('The shape of ND array W= ', w.size)\n",
    "print('The shape ofarange A10= ', A10.size)"
   ]
  },
  {
   "cell_type": "markdown",
   "id": "1f82f388",
   "metadata": {},
   "source": [
    "## Numpy Array Math Operations\n"
   ]
  },
  {
   "cell_type": "code",
   "execution_count": 56,
   "id": "831d74ce",
   "metadata": {},
   "outputs": [],
   "source": [
    "x= np.array([[1,2,3],[4,5,6]])\n",
    "y= np.array([[2,2,2],[3,3,3]])\n",
    "z= np.array([1,2,3])"
   ]
  },
  {
   "cell_type": "code",
   "execution_count": 57,
   "id": "b7f8a564",
   "metadata": {},
   "outputs": [
    {
     "data": {
      "text/plain": [
       "array([[1, 4],\n",
       "       [2, 5],\n",
       "       [3, 6]])"
      ]
     },
     "execution_count": 57,
     "metadata": {},
     "output_type": "execute_result"
    }
   ],
   "source": [
    "#Transpose\n",
    "x.T"
   ]
  },
  {
   "cell_type": "code",
   "execution_count": null,
   "id": "5676e352",
   "metadata": {},
   "outputs": [],
   "source": [
    "\n"
   ]
  }
 ],
 "metadata": {
  "kernelspec": {
   "display_name": "Python 3 (ipykernel)",
   "language": "python",
   "name": "python3"
  },
  "language_info": {
   "codemirror_mode": {
    "name": "ipython",
    "version": 3
   },
   "file_extension": ".py",
   "mimetype": "text/x-python",
   "name": "python",
   "nbconvert_exporter": "python",
   "pygments_lexer": "ipython3",
   "version": "3.10.9"
  }
 },
 "nbformat": 4,
 "nbformat_minor": 5
}
